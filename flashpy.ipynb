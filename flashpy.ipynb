{
 "metadata": {
  "name": "",
  "signature": "sha256:bfbdb87f1afd70e46ac12c532c360740b09fd286a754189c64854fdc8a723291"
 },
 "nbformat": 3,
 "nbformat_minor": 0,
 "worksheets": [
  {
   "cells": [
    {
     "cell_type": "heading",
     "level": 1,
     "metadata": {},
     "source": [
      "FLASH"
     ]
    },
    {
     "cell_type": "heading",
     "level": 3,
     "metadata": {},
     "source": [
      "REQUIRED INPUT"
     ]
    },
    {
     "cell_type": "code",
     "collapsed": false,
     "input": [
      "elev = 555.53           # Elevation of the measuring point (ft)\n",
      "nzones = 3              # Number for flow zones\n",
      "Dw = 6                  # Well diameter (inches)\n",
      "drawdown = 3.5          # Drawdown (ft)\n",
      "Hwa = 4.62              # Depth to ambient water level (ft)\n",
      "bot_casing = 10         # Depth to bottom of casing (ft)\n",
      "bot_well = 140          # Depth at bottom of the well (ft)\n",
      "Ro = 95                 # Radius of influence (ft)\n",
      "Ttot = 26               # Total Transmissivity (square ft/day)"
     ],
     "language": "python",
     "metadata": {},
     "outputs": [],
     "prompt_number": 1
    },
    {
     "cell_type": "heading",
     "level": 3,
     "metadata": {},
     "source": [
      "FRACTURE INFORMATION"
     ]
    },
    {
     "cell_type": "code",
     "collapsed": false,
     "input": [
      "# The number of fractures can be changes by editing the lists of properties. \n",
      "# All lists must be the same length.\n",
      "depth = np.array([35.0, 45.0, 65.0])                # Fracture depth (ft)\n",
      "Qamb = np.array([0.0, 0.02, 0.02])                  # Ambient flow (GPM)\n",
      "Qstress = np.array([0.5, 0.5, 0.23])                # Stressed flow (GPM)\n",
      "ff_h = np.array([547.41, 550.91, 551.24])           # Farfield head (ft)"
     ],
     "language": "python",
     "metadata": {},
     "outputs": [],
     "prompt_number": 3
    },
    {
     "cell_type": "heading",
     "level": 3,
     "metadata": {},
     "source": [
      "FIELD DATA"
     ]
    },
    {
     "cell_type": "code",
     "collapsed": false,
     "input": [
      "# Edit lists to add your field data\n",
      "\n",
      "# Ambient Flow Measurement Depth (ft)\n",
      "Za = [21, 33.5, 37.0, 39.1, 50.0, 63.0, 69.5, 89.1, 100.0, 109.0]\n",
      "# Ambient Discharge, Q, (GPM)\n",
      "Qa = [0.0, 0.0, 0.019, 0.017, 0.02, 0.019, 0, 0, 0, 0]\n",
      "# Pumped Flow Measurement Depth (ft)\n",
      "Zs = [21.3, 35.5, 37, 50, 64, 66, 82, 100, 125]\n",
      "# Pumped Discharge (GPM)\n",
      "Qs = [0.33, 0.50, 0.49, 0.25, 0.23, 0, 0, 0, 0]\n",
      "\n",
      "# Check that the parameter lists are the same length (easy mistake to make)\n",
      "assert len(Za) == len(Qa), \"Ambient flow vectors not the same length\"\n",
      "assert len(Zs) == len(Qs), \"Pumping flow vectors not the same length\""
     ],
     "language": "python",
     "metadata": {},
     "outputs": [],
     "prompt_number": 4
    },
    {
     "cell_type": "heading",
     "level": 2,
     "metadata": {},
     "source": [
      "Model Parameters"
     ]
    },
    {
     "cell_type": "code",
     "collapsed": false,
     "input": [
      "Tfac = [0.42, 0.54, 0.04]           # Tfactor (square ft/day)\n",
      "del_h = [0.33, 0.0, -3.5]           # Difference between far-field head and ambient water levels (ft)"
     ],
     "language": "python",
     "metadata": {},
     "outputs": [],
     "prompt_number": 7
    },
    {
     "cell_type": "markdown",
     "metadata": {},
     "source": [
      "To run the forward model mandually, adjust the parameters below and re-execute the parameter cell and the plotting cell below it."
     ]
    }
   ],
   "metadata": {}
  }
 ]
}
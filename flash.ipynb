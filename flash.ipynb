{
 "metadata": {
  "name": "",
  "signature": "sha256:a349f6e2aff11413e98f2e6b8eda6e3c48d3a1cced44c48072a852635d132e2e"
 },
 "nbformat": 3,
 "nbformat_minor": 0,
 "worksheets": [
  {
   "cells": [
    {
     "cell_type": "heading",
     "level": 1,
     "metadata": {},
     "source": [
      "FLASH"
     ]
    },
    {
     "cell_type": "markdown",
     "metadata": {},
     "source": [
      "FLASH (Flow-Log Analysis of Single Holes) is a spreadsheet-based graphical user interface (GUI) for a multi-layer Thiem solution for steady-state flow to a borehole. The software allows for analysis of data from boreholes in which step increases in flow (from discrete fractures or zones) or linear increases in flow (over multiple aquifer layers) are observed. Data are entered in the worksheet 'FIELD DATA.' Interpretations of ambient and stressed flow are enetered along with physical parameters and water-level measurements on the 'INPUTS' sheet. Visual Basic for Applications (VBA) routines provide an interface to the Excel Solver, which can be used for model calibration.\n",
      "\n",
      "This spreadsheet uses a multi-layer Thiem analytical model to generate a borehole flow log representing the flow that would be measured in a borehole with a specified number of aquifers for a given set of values for the water levels in each of the aquifers, and the difference between the open-hole water level under static and steady pumping (or injection) conditions. The program is used in a forward modeling mode (that is, trial and error) until a satisfactory match between measured and computed flow is achieved for a gvien set of input parameters. In the GUI the input parameters, which generally includes transmissivity and head, can be changed; the simulated flow profiles are updated automatically. The GUI also supports use of the Excel Solver for automated calibration.\n"
     ]
    },
    {
     "cell_type": "markdown",
     "metadata": {},
     "source": [
      "The equations we are fitting to find the flows are (Day-Lewis *et al.*, 2011):"
     ]
    },
    {
     "cell_type": "markdown",
     "metadata": {},
     "source": [
      "\\begin{align} Q^a_i = \\frac{2\\pi T^{factor}_iT^{total}(h^a_w-h^0_i)}{ln(r_o/r_w)} \\end{align}"
     ]
    },
    {
     "cell_type": "markdown",
     "metadata": {},
     "source": [
      "\\begin{align} Q^s_i = \\frac{2\\pi T^{factor}_iT^{total}(h^s_w-h^0_i)}{ln(r_o/r_w)} \\end{align}"
     ]
    },
    {
     "cell_type": "heading",
     "level": 3,
     "metadata": {},
     "source": [
      "REQUIRED INPUT"
     ]
    },
    {
     "cell_type": "markdown",
     "metadata": {},
     "source": [
      "**Be careful to use English parameters -- feet, inches, gallons per minute**  \n",
      "**Elevation of measuring point** - elevation used for calculation of water levels based on drawdown and depths entered below, in feet;  \n",
      "**Number of flow Zones** - number of transmissive zones (layers or fractures) up to a maximum of 10;   \n",
      "**Well diameter** - diameter of well in the interval over which drawdown occurs, in inches;   \n",
      "**Drawdown** - the distance between the ambient and the quasi-steady state water level measured under stressed (pumping or injection conditions), in feet;    \u00a0 \n",
      "**Depth to ambient water level** - depth from measurement point to water level in well in absence of stress, in feet;    \n",
      "**Depth at bottom of casing** - depth at which the well is open to the formation, in feet. The hydraulic solution will be plotted from this depth down to the depth at the bottom of the well.   \n",
      "**Depth at bottom of well** - depth at the bottom of the well, in feet. The hydraulic solution will be plotted to this depth.   \n",
      "**Radius of influence** - the radial distance from the well at which all transsmive zones remains at equilibrium condition, in feet;   \n",
      "**Total Transmissivity** - the transmissivity based on an open-hole pump test, used for a starting value, in feet squared per day;\n"
     ]
    },
    {
     "cell_type": "heading",
     "level": 3,
     "metadata": {},
     "source": [
      "Import Require Modules"
     ]
    },
    {
     "cell_type": "code",
     "collapsed": false,
     "input": [
      "# Import the necessary Python modules\n",
      "from __future__ import division\n",
      "import numpy as np\n",
      "import matplotlib.pyplot as plt\n",
      "from math import *\n",
      "from scipy.optimize import minimize"
     ],
     "language": "python",
     "metadata": {},
     "outputs": [],
     "prompt_number": 26
    },
    {
     "cell_type": "heading",
     "level": 3,
     "metadata": {},
     "source": [
      "Initialize Parameters"
     ]
    },
    {
     "cell_type": "code",
     "collapsed": false,
     "input": [
      "# Initialize paramters\n",
      "elev = 555.53           # Elevation of the measuring point (ft)\n",
      "nzones = 3              # Number for flow zones\n",
      "Dw = 6                  # Well diameter (inches)\n",
      "drawdown = 3.5          # Drawdown (ft)\n",
      "Hwa = 4.62              # Depth to ambient water level (ft)\n",
      "bot_casing = 10         # Depth to bottom of casing (ft)\n",
      "bot_well = 140          # Depth at bottom of the well (ft)\n",
      "Ro = 95                 # Radius of influene (ft)\n",
      "Ttot = 26               # Total Transmissivity (square ft/day)"
     ],
     "language": "python",
     "metadata": {},
     "outputs": [],
     "prompt_number": 27
    },
    {
     "cell_type": "heading",
     "level": 3,
     "metadata": {},
     "source": [
      "FRACTURE INFORMATION"
     ]
    },
    {
     "cell_type": "code",
     "collapsed": false,
     "input": [
      "# The number of fractures can be changes by editing the lists of properties. \n",
      "# All lists must be the same length.\n",
      "depth = np.array([35.0, 45.0, 65.0])                # Fracture depth (ft)\n",
      "Qamb = np.array([0.0, 0.02, 0.02])                  # Ambient flow (GPM)\n",
      "Qstress = np.array([0.5, 0.5, 0.23])                # Stressed flow (GPM)\n",
      "ff_h = np.array([547.41, 550.91, 551.24])           # Farfield head (ft)"
     ],
     "language": "python",
     "metadata": {},
     "outputs": [],
     "prompt_number": 28
    },
    {
     "cell_type": "heading",
     "level": 3,
     "metadata": {},
     "source": [
      "FIELD DATA"
     ]
    },
    {
     "cell_type": "markdown",
     "metadata": {},
     "source": [
      "**Flow normalization:**\n",
      "* Assumes inflow to borehole is proportional to the total discharge or drawdown\n",
      "* If maximum (reliable flow measurement) undermeasures, the normalization can correct the raw data to reflect the total proportional flow.\n",
      "* If the pump cuts out or if the pumping rate cannot be held constant, normalize the flow at any location and divide by the total amount of flow at that time.\n",
      "\n",
      "\\begin{align}  CF = Q_{raw}/Q_{raw-max}  \\end{align}\n",
      "\\begin{align}  Q_N = (CF)(Q_{raw}) \\end{align}"
     ]
    },
    {
     "cell_type": "markdown",
     "metadata": {},
     "source": [
      "**Quasi-Steady State:**\n",
      "Change in borehole storage converted to flow rate, which is less than the lower limit of the flowmeter.\n",
      "* 6-inch borehole: $\\Delta h$ = 0.01 ft/min corresponds to 0.015 gpm for HPFM (or 0.1 gpm for EMFM) \n",
      "* If $Q_{ss}$ is not reached, the change in storage can be removed from the stressed flow rate. To do this, use a transducer to measure water levels during the flowmeter measurements. \n",
      "\n",
      "\\begin{align} Q_{ss} = \\Delta Q_{bs} = \\pi r^2 \\Delta h \\end{align}"
     ]
    },
    {
     "cell_type": "markdown",
     "metadata": {},
     "source": [
      "**Remember to account for borehole storage and normalize the flow rate to the known or measured flow.**"
     ]
    },
    {
     "cell_type": "code",
     "collapsed": false,
     "input": [
      "# Edit lists to add your field data\n",
      "\n",
      "# Ambient Flow\n",
      "\n",
      "# Depth (ft)\n",
      "Za = [21, 33.5, 37.0, 39.1, 50.0, 63.0, 69.5, 89.1, 100.0, 109.0]\n",
      "\n",
      "# Discharge, Q, (GPM)\n",
      "Qa = [0.0, 0.0, 0.019, 0.017, 0.02, 0.019, 0, 0, 0, 0]\n",
      "\n",
      "# Pumped depth (ft)\n",
      "Zs = [21.3, 35.5, 37, 50, 64, 66, 82, 100, 125]\n",
      "\n",
      "# Pumped flow\n",
      "Qs = [0.33, 0.50, 0.49, 0.25, 0.23, 0, 0, 0, 0]\n",
      "\n",
      "# Check that the parameter lists are the same length (easy mistake to make)\n",
      "assert len(Za) == len(Qa), \"Ambient flow vectors not the same length\"\n",
      "assert len(Zs) == len(Qs), \"Pumping flow vectors not the same length\""
     ],
     "language": "python",
     "metadata": {},
     "outputs": [],
     "prompt_number": 29
    },
    {
     "cell_type": "heading",
     "level": 3,
     "metadata": {},
     "source": [
      "Forward Model Code"
     ]
    },
    {
     "cell_type": "code",
     "collapsed": false,
     "input": [
      "# Forward Model\n",
      "import numpy as np\n",
      "def thiem(Tfac, Ttot, del_h, Ro, Dw):\n",
      "    '''This function implements equation 2 and 3 \n",
      "    based on the Thiem Equation'''\n",
      "    # Convert all quantities to mks\n",
      "    del_h = del_h * 0.3048 # Convert ft to m\n",
      "    Ro = float(Ro)*0.3048\n",
      "    Rw = float(Dw)/2 # Convert well diameter to radius\n",
      "    Rw = float(Rw)*(0.3048/12) # Convert inches to m\n",
      "    Ttot = Ttot*0.3048*0.3048/(3600*24) # Convert to m2/sec\n",
      "    Q = 2.0*np.pi*Tfac*Ttot*del_h/log(float(Ro)/Rw)\n",
      "    Q = Q * 1000.0 # Convert cubic meters/sec to liters/sec\n",
      "    Q = Q * 15.8503230745 # Convert L/s to gpm\n",
      "    return Q"
     ],
     "language": "python",
     "metadata": {},
     "outputs": [],
     "prompt_number": 30
    },
    {
     "cell_type": "code",
     "collapsed": false,
     "input": [
      "# Code to calculate the cumulative flow\n",
      "def calculate_flow(Tfac,Ttot,del_h,Ro,Dw,ambient=True):\n",
      "    # Loop over the number of fractures\n",
      "    Q_sim = np.zeros(len(Tfac))\n",
      "    Qfrac = 0.0\n",
      "    for i in range(len(Tfac)):\n",
      "        if ambient:\n",
      "            Qfrac += thiem(Tfac[i],Ttot,del_h[i],Ro,Dw)\n",
      "        else:\n",
      "            Qfrac += thiem(Tfac[i],Ttot,del_h[i]+drawdown,Ro,Dw)\n",
      "        Q_sim[i] = Qfrac\n",
      "    Q_sim = np.flipud(Q_sim) #Reverse to go from top of well down\n",
      "    return Q_sim"
     ],
     "language": "python",
     "metadata": {},
     "outputs": [],
     "prompt_number": 31
    },
    {
     "cell_type": "heading",
     "level": 2,
     "metadata": {},
     "source": [
      "Model Parameters"
     ]
    },
    {
     "cell_type": "code",
     "collapsed": false,
     "input": [
      "Tfac = [0.42, 0.54, 0.04]           # Tfactor (square ft/day)\n",
      "del_h = [0.33, 0.0, -3.5]           # Difference between far-field head and ambient water levels (ft)"
     ],
     "language": "python",
     "metadata": {},
     "outputs": [],
     "prompt_number": 32
    },
    {
     "cell_type": "markdown",
     "metadata": {},
     "source": [
      "To run the forward model mandually, adjust the parameters below and re-execute the parameter cell and the plotting cell below it."
     ]
    },
    {
     "cell_type": "heading",
     "level": 3,
     "metadata": {},
     "source": [
      "Simulated Flows for Manually Selected Parameters"
     ]
    },
    {
     "cell_type": "code",
     "collapsed": false,
     "input": [
      "# Calculated Flows for given model parameters\n",
      "Qamb_sim = calculate_flow(Tfac,Ttot,del_h,Ro,Dw,ambient=True)\n",
      "print('Ambient Flow:', Qamb_sim)\n",
      "# Pumped flow\n",
      "Qstress_sim = calculate_flow(Tfac,Ttot,del_h,Ro,Dw,ambient=False)\n",
      "print('Pumped Flow:', Qstress_sim)"
     ],
     "language": "python",
     "metadata": {},
     "outputs": [
      {
       "output_type": "stream",
       "stream": "stdout",
       "text": [
        "('Ambient Flow:', array([-0.00020001,  0.01980098,  0.01980098]))\n",
        "('Pumped Flow:', array([ 0.49982481,  0.49982481,  0.22981141]))\n"
       ]
      }
     ],
     "prompt_number": 33
    },
    {
     "cell_type": "code",
     "collapsed": false,
     "input": [
      "# Plot the Ambient Flow\n",
      "# Interpolate flow values\n",
      "z = arange(0,bot_well,.1)\n",
      "qa_calc = zeros(len(z))\n",
      "qs_calc = zeros(len(z))\n",
      "d = [0, bot_well]\n",
      "d[1:1] = depth\n",
      "for i in range(len(depth)):\n",
      "    qa_calc[np.logical_and(z >= d[i], z < d[i+1])] = Qamb[i]\n",
      "    qs_calc[np.logical_and(z >= d[i], z < d[i+1])] = Qstress[i]"
     ],
     "language": "python",
     "metadata": {},
     "outputs": [],
     "prompt_number": 34
    },
    {
     "cell_type": "heading",
     "level": 2,
     "metadata": {},
     "source": [
      "Automatic Model Calibration"
     ]
    },
    {
     "cell_type": "heading",
     "level": 3,
     "metadata": {},
     "source": [
      "Additional Parameters for Inversion"
     ]
    },
    {
     "cell_type": "code",
     "collapsed": false,
     "input": [
      "# Minimum allowable transmissivity\n",
      "Tfac_min = 1.0e-9\n",
      "# Maximum allowable absolute error in far-field head\n",
      "del_h_max = 5.0\n",
      "\n",
      "# Additional parameters that need to be passed but not altered\n",
      "alpha = 1e-4  # Regularization parameter\n",
      "beta = 1.0    # Can increase weight to ambient measurements (beta >0)"
     ],
     "language": "python",
     "metadata": {},
     "outputs": [],
     "prompt_number": 35
    },
    {
     "cell_type": "heading",
     "level": 3,
     "metadata": {},
     "source": [
      "Initialize parameters values to starting guess"
     ]
    },
    {
     "cell_type": "code",
     "collapsed": false,
     "input": [
      "# Create array of initial guesses at the fitting parameter values\n",
      "n = len(Tfac)\n",
      "init_guess = np.zeros(2*n)\n",
      "\n",
      "# Starting guess at model paramters based on manual calculation \n",
      "init_guess[0:n] = Tfac\n",
      "init_guess[n:] = del_h"
     ],
     "language": "python",
     "metadata": {},
     "outputs": [],
     "prompt_number": 36
    },
    {
     "cell_type": "heading",
     "level": 3,
     "metadata": {},
     "source": [
      "Implement parameter bounds and contraints"
     ]
    },
    {
     "cell_type": "code",
     "collapsed": false,
     "input": [
      "# Contraints and bounds\n",
      "# Sum of Tfac = 1, or the difference with 1 is zero\n",
      "# Define a function generator to create the constraint function because\n",
      "# the number of fractures is not known in advance\n",
      "def make_contraint(n):\n",
      "    def f(x):\n",
      "        return np.sum(x[0:n]) - 1\n",
      "    return f\n",
      "    \n",
      "# Use the function generator to create the contraint function        \n",
      "total_one = make_contraint(n)\n",
      "cons = ({'type': 'eq', 'fun': total_one})\n",
      "\n",
      "# Create parameter bounds\n",
      "# Tfac > Tfac_min\n",
      "# ABS(del_h) < del_h_max\n",
      "bndT = tuple((Tfac_min,1) for x in Tfac)\n",
      "bndh = tuple((-del_h_max, del_h_max) for x in del_h)\n",
      "bnds = bndT + bndh"
     ],
     "language": "python",
     "metadata": {},
     "outputs": [],
     "prompt_number": 37
    },
    {
     "cell_type": "heading",
     "level": 3,
     "metadata": {},
     "source": [
      "Define the Objective Function"
     ]
    },
    {
     "cell_type": "markdown",
     "metadata": {},
     "source": [
      "The objective function involves two terms: the mean-square error for the predicted flow measurements, and the mismatch between the borehole's water level and the far-field heads:\n",
      "\n",
      "\\begin{align} min(F) = \\frac{1}{n}\\left[\\sum_{i=1}^{n} (Q_i^{s,sim} - Q_i^{s,int})^2 + (Q_i^{a,sim} - Q_i^{a,int})^2\\right] + \\alpha \\sum_{i=1}^{n}(\\Delta h_i )^2 \\end{align}"
     ]
    },
    {
     "cell_type": "markdown",
     "metadata": {},
     "source": [
      "subject to the constraints\n",
      "\\begin{align} T_i^{factor} \\geq T_{min}^{factor} \\end{align}\n",
      "\n",
      "\\begin{align} abs(h_w^a - h_i^0) \\leq \\Delta h_{max} \\end{align}\n",
      "for all i."
     ]
    },
    {
     "cell_type": "code",
     "collapsed": false,
     "input": [
      "def objective(x):\n",
      "    '''This is the objective function for the minimization.  I have added a beta parameter to\n",
      "    allow more or less weight to be placed on the ambient flow data relative to the pumped.'''\n",
      "    # Unpack vector of parameters (x)\n",
      "    Tfac = x[0:n]\n",
      "    del_h = x[n:]    \n",
      "    # Simulate ambient flow\n",
      "    Qamb_sim = calculate_flow(Tfac,Ttot,del_h,Ro,Dw,ambient=True)\n",
      "    # Simulate pumped flow\n",
      "    Qstress_sim = calculate_flow(Tfac,Ttot,del_h,Ro,Dw,ambient=False)\n",
      "    F = (np.sum((Qstress_sim - Qstress)**2) + beta*np.sum((Qamb_sim - Qamb)**2))/n\n",
      "    F += alpha * np.sum(del_h**2)\n",
      "    return F   "
     ],
     "language": "python",
     "metadata": {},
     "outputs": [],
     "prompt_number": 38
    },
    {
     "cell_type": "heading",
     "level": 3,
     "metadata": {},
     "source": [
      "Minimize the objective function"
     ]
    },
    {
     "cell_type": "code",
     "collapsed": false,
     "input": [
      "# Minimize the objective function\n",
      "# Uses Sequential Quadratric Programs (Kraft, 1998)\n",
      "res = minimize(objective, init_guess, bounds=bnds, constraints=cons, method='SLSQP')\n",
      "# Calculate flow from fitted transmissivities and delta heads\n",
      "Qamb_fit = calculate_flow(res.x[0:n],Ttot,res.x[n:],Ro,Dw,ambient=True)\n",
      "Qstress_fit = calculate_flow(res.x[0:n],Ttot,res.x[n:],Ro,Dw,ambient=False)"
     ],
     "language": "python",
     "metadata": {},
     "outputs": [],
     "prompt_number": 39
    },
    {
     "cell_type": "heading",
     "level": 2,
     "metadata": {},
     "source": [
      "RESULTS"
     ]
    },
    {
     "cell_type": "heading",
     "level": 3,
     "metadata": {},
     "source": [
      "Calculate flow values for a suite of points in the well"
     ]
    },
    {
     "cell_type": "code",
     "collapsed": false,
     "input": [
      "# Interpolate flow values\n",
      "z = np.arange(0,bot_well,.1)\n",
      "qa_calc = np.zeros(len(z))\n",
      "qs_calc = np.zeros(len(z))\n",
      "qafit_calc = np.zeros(len(z))\n",
      "qsfit_calc = np.zeros(len(z))\n",
      "d = [0, bot_well]\n",
      "d[1:1] = depth\n",
      "for i in range(len(depth)):\n",
      "    qa_calc[np.logical_and(z >= d[i], z < d[i+1])] = Qamb_sim[i]\n",
      "    qs_calc[np.logical_and(z >= d[i], z < d[i+1])] = Qstress_sim[i]\n",
      "    qafit_calc[np.logical_and(z >= d[i], z < d[i+1])] = Qamb_fit[i]\n",
      "    qsfit_calc[np.logical_and(z >= d[i], z < d[i+1])] = Qstress_fit[i]"
     ],
     "language": "python",
     "metadata": {},
     "outputs": [],
     "prompt_number": 40
    },
    {
     "cell_type": "heading",
     "level": 3,
     "metadata": {},
     "source": [
      "Plot Data"
     ]
    },
    {
     "cell_type": "code",
     "collapsed": false,
     "input": [
      "# Plot the results\n",
      "# Axis limits can be adjusted below with xlim and ylim\n",
      "import matplotlib.pyplot as plt\n",
      "fig = plt.figure()\n",
      "fig.set_size_inches(8,10)\n",
      "fig.subplots_adjust(wspace=0.5)\n",
      "ax1 = fig.add_subplot(1,2,1)\n",
      "ax1.set_xlim(-0.025,0.025)\n",
      "ax1.set_ylim(bot_casing,bot_well)\n",
      "#ax1.xaxis.tick_top()\n",
      "plt.plot(Qa,Za,'ob')\n",
      "plt.plot(qa_calc,z,'b--', linewidth=3)\n",
      "plt.plot(qafit_calc,z,'b-')\n",
      "plt.title('Ambient Flow')\n",
      "plt.gca().invert_yaxis()\n",
      "plt.xlabel('Upward Flow (gpm)')\n",
      "plt.ylabel('Depth in Feet')\n",
      "ax2 = fig.add_subplot(1,2,2)\n",
      "plt.plot(Qs,Zs,'or')\n",
      "plt.plot(qs_calc,z,'r--', linewidth=3)\n",
      "plt.plot(qsfit_calc,z,'r-')\n",
      "plt.title('Pumped Flow')\n",
      "ax2.set_xlim(-0.5,1.0)\n",
      "ax2.set_ylim(bot_casing,bot_well)\n",
      "#ax2.xaxis.tick_top()\n",
      "plt.gca().invert_yaxis()\n",
      "plt.xlabel('Upward Flow (gpm)')\n",
      "plt.ylabel('Depth in Feet')\n",
      "plt.show()"
     ],
     "language": "python",
     "metadata": {},
     "outputs": [
      {
       "metadata": {},
       "output_type": "display_data",
       "png": "[encoded data removed]",
       "text": [
        "<matplotlib.figure.Figure at 0x10ee5c590>"
       ]
      }
     ],
     "prompt_number": 41
    },
    {
     "cell_type": "heading",
     "level": 3,
     "metadata": {},
     "source": [
      "References"
     ]
    },
    {
     "cell_type": "markdown",
     "metadata": {},
     "source": [
      "Day-Lewis, F. D., Johnson, C. D., Paillet, F. L., & Halford, K. J. (2011). A Computer Program for Flow-Log Analysis of Single Holes (FLASH). *Ground Water*, 49, 926\u2013931. doi:10.1111/j.1745-6584.2011.00798.x\n",
      "\n",
      "Kraft D (1988) A software package for sequential quadratic programming. Tech. Rep. DFVLR-FB 88-28, DLR German Aerospace Center \u2014 Institute for Flight Mechanics, Koln, Germany."
     ]
    }
   ],
   "metadata": {}
  }
 ]
}
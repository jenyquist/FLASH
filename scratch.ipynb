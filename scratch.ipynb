{
 "metadata": {
  "name": "",
  "signature": "sha256:f11163003cb30ecc0694990380dfd4197e0e00794e6975e6d52a0b72d4db71f3"
 },
 "nbformat": 3,
 "nbformat_minor": 0,
 "worksheets": [
  {
   "cells": [
    {
     "cell_type": "code",
     "collapsed": false,
     "input": [
      "from __future__ import print_function\n",
      "from IPython.html.widgets import interact, interactive, fixed\n",
      "from IPython.html import widgets"
     ],
     "language": "python",
     "metadata": {},
     "outputs": [],
     "prompt_number": 1
    },
    {
     "cell_type": "code",
     "collapsed": false,
     "input": [
      "def f(a, b, c, d, **kwargs):\n",
      "    x=np.linspace(-10, 10, 20)\n",
      "    y = a*(x**3) + b*(x**2) + c*x + d\n",
      "    \n",
      "    title=\"$f(x) = (%s)x^{3} + (%s)x^{2} + (%s)x + (%s)$\" % (a,b,c,d)\n",
      "    \n",
      "    plt_arrays(x,y, title=title, **kwargs)"
     ],
     "language": "python",
     "metadata": {},
     "outputs": [],
     "prompt_number": 4
    },
    {
     "cell_type": "code",
     "collapsed": false,
     "input": [
      "#This function plot x, y and adds a title\n",
      "def plt_arrays(x, y, title=\"\", color=\"red\", linestyle=\"dashed\", linewidth=2):\n",
      "    fig = plt.figure()\n",
      "    axes = fig.add_subplot(111)\n",
      "    axes.plot(x,y, color=color, linestyle=linestyle, linewidth=linewidth)\n",
      "    axes.set_title(title)\n",
      "    axes.grid()\n",
      "    plt.show()"
     ],
     "language": "python",
     "metadata": {},
     "outputs": [],
     "prompt_number": 6
    },
    {
     "cell_type": "code",
     "collapsed": false,
     "input": [
      "#Define Constants\n",
      "a=0.25\n",
      "b=2\n",
      "c=-4\n",
      "d=0\n",
      "\n",
      "f(a, b, c, d)"
     ],
     "language": "python",
     "metadata": {},
     "outputs": [
      {
       "metadata": {},
       "output_type": "display_data",
       "png": "[encoded data removed]",
       "text": [
        "<matplotlib.figure.Figure at 0x10dd4cb50>"
       ]
      }
     ],
     "prompt_number": 7
    },
    {
     "cell_type": "code",
     "collapsed": false,
     "input": [
      "i = interact(f,\n",
      "             a=(-10.,10),\n",
      "             b=(-10.,10),\n",
      "             c=(-10.,10),\n",
      "             d=(-10.,10),\n",
      "             color = [\"red\", \"blue\", \"green\"],\n",
      "             linestyle=[\"solid\", \"dashed\"],\n",
      "             linewidth=(1,5)\n",
      "             )"
     ],
     "language": "python",
     "metadata": {},
     "outputs": [
      {
       "metadata": {},
       "output_type": "display_data",
       "png": "[encoded data removed]",
       "text": [
        "<matplotlib.figure.Figure at 0x10de8fa50>"
       ]
      }
     ],
     "prompt_number": 8
    },
    {
     "cell_type": "code",
     "collapsed": false,
     "input": [
      "def f2(p, **kwargs):\n",
      "    a = p[0]\n",
      "    b = p[1]\n",
      "    c = p[2]\n",
      "    d = p[3]\n",
      "    x=np.linspace(-10, 10, 20)\n",
      "    y = a*(x**3) + b*(x**2) + c*x + d\n",
      "    \n",
      "    title=\"$f(x) = (%s)x^{3} + (%s)x^{2} + (%s)x + (%s)$\" % (a,b,c,d)\n",
      "    \n",
      "    plt_arrays(x,y, title=title, **kwargs)"
     ],
     "language": "python",
     "metadata": {},
     "outputs": [],
     "prompt_number": 10
    },
    {
     "cell_type": "code",
     "collapsed": false,
     "input": [
      "i2 = interact(f2,\n",
      "             p=(-10.,10),\n",
      "             color = [\"red\", \"blue\", \"green\"],\n",
      "             linestyle=[\"solid\", \"dashed\"],\n",
      "             linewidth=(1,5)\n",
      "             )"
     ],
     "language": "python",
     "metadata": {},
     "outputs": [
      {
       "ename": "TypeError",
       "evalue": "'float' object has no attribute '__getitem__'",
       "output_type": "pyerr",
       "traceback": [
        "\u001b[0;31m---------------------------------------------------------------------------\u001b[0m\n\u001b[0;31mTypeError\u001b[0m                                 Traceback (most recent call last)",
        "\u001b[0;32m<ipython-input-10-dd358c677d32>\u001b[0m in \u001b[0;36mf2\u001b[0;34m(p, **kwargs)\u001b[0m\n\u001b[1;32m      1\u001b[0m \u001b[0;32mdef\u001b[0m \u001b[0mf2\u001b[0m\u001b[0;34m(\u001b[0m\u001b[0mp\u001b[0m\u001b[0;34m,\u001b[0m \u001b[0;34m**\u001b[0m\u001b[0mkwargs\u001b[0m\u001b[0;34m)\u001b[0m\u001b[0;34m:\u001b[0m\u001b[0;34m\u001b[0m\u001b[0m\n\u001b[0;32m----> 2\u001b[0;31m     \u001b[0ma\u001b[0m \u001b[0;34m=\u001b[0m \u001b[0mp\u001b[0m\u001b[0;34m[\u001b[0m\u001b[0;36m0\u001b[0m\u001b[0;34m]\u001b[0m\u001b[0;34m\u001b[0m\u001b[0m\n\u001b[0m\u001b[1;32m      3\u001b[0m     \u001b[0mb\u001b[0m \u001b[0;34m=\u001b[0m \u001b[0mp\u001b[0m\u001b[0;34m[\u001b[0m\u001b[0;36m1\u001b[0m\u001b[0;34m]\u001b[0m\u001b[0;34m\u001b[0m\u001b[0m\n\u001b[1;32m      4\u001b[0m     \u001b[0mc\u001b[0m \u001b[0;34m=\u001b[0m \u001b[0mp\u001b[0m\u001b[0;34m[\u001b[0m\u001b[0;36m2\u001b[0m\u001b[0;34m]\u001b[0m\u001b[0;34m\u001b[0m\u001b[0m\n\u001b[1;32m      5\u001b[0m     \u001b[0md\u001b[0m \u001b[0;34m=\u001b[0m \u001b[0mp\u001b[0m\u001b[0;34m[\u001b[0m\u001b[0;36m3\u001b[0m\u001b[0;34m]\u001b[0m\u001b[0;34m\u001b[0m\u001b[0m\n",
        "\u001b[0;31mTypeError\u001b[0m: 'float' object has no attribute '__getitem__'"
       ]
      }
     ],
     "prompt_number": 11
    },
    {
     "cell_type": "code",
     "collapsed": false,
     "input": [
      "@interact(x=True, y=1.0)\n",
      "def g(x, y):\n",
      "    print(x, y)"
     ],
     "language": "python",
     "metadata": {},
     "outputs": [
      {
       "output_type": "stream",
       "stream": "stdout",
       "text": [
        "True 1.4\n"
       ]
      }
     ],
     "prompt_number": 12
    },
    {
     "cell_type": "code",
     "collapsed": false,
     "input": [
      "x = [1,2,3,4]"
     ],
     "language": "python",
     "metadata": {},
     "outputs": [],
     "prompt_number": 13
    },
    {
     "cell_type": "code",
     "collapsed": false,
     "input": [
      "for n, val in enumerate(x):\n",
      "    globals()[\"var%d\"%n] = val\n",
      "    "
     ],
     "language": "python",
     "metadata": {},
     "outputs": [],
     "prompt_number": 19
    },
    {
     "cell_type": "code",
     "collapsed": false,
     "input": [
      "def manyArgs(*arg):\n",
      "    print(\"I was called with the following arguments:\")\n",
      "    for i,val in enumerate(arg):\n",
      "        print(val)\n"
     ],
     "language": "python",
     "metadata": {},
     "outputs": [],
     "prompt_number": 27
    },
    {
     "cell_type": "code",
     "collapsed": false,
     "input": [
      "manyArgs(1,3,'dog',[1,2])"
     ],
     "language": "python",
     "metadata": {},
     "outputs": [
      {
       "output_type": "stream",
       "stream": "stdout",
       "text": [
        "I was called with the following arguments:\n",
        "1\n",
        "3\n",
        "dog\n",
        "[1, 2]\n"
       ]
      }
     ],
     "prompt_number": 28
    },
    {
     "cell_type": "code",
     "collapsed": false,
     "input": [
      "help(enumerate)"
     ],
     "language": "python",
     "metadata": {},
     "outputs": [
      {
       "output_type": "stream",
       "stream": "stdout",
       "text": [
        "Help on class enumerate in module __builtin__:\n",
        "\n",
        "class enumerate(object)\n",
        " |  enumerate(iterable[, start]) -> iterator for index, value of iterable\n",
        " |  \n",
        " |  Return an enumerate object.  iterable must be another object that supports\n",
        " |  iteration.  The enumerate object yields pairs containing a count (from\n",
        " |  start, which defaults to zero) and a value yielded by the iterable argument.\n",
        " |  enumerate is useful for obtaining an indexed list:\n",
        " |      (0, seq[0]), (1, seq[1]), (2, seq[2]), ...\n",
        " |  \n",
        " |  Methods defined here:\n",
        " |  \n",
        " |  __getattribute__(...)\n",
        " |      x.__getattribute__('name') <==> x.name\n",
        " |  \n",
        " |  __iter__(...)\n",
        " |      x.__iter__() <==> iter(x)\n",
        " |  \n",
        " |  next(...)\n",
        " |      x.next() -> the next value, or raise StopIteration\n",
        " |  \n",
        " |  ----------------------------------------------------------------------\n",
        " |  Data and other attributes defined here:\n",
        " |  \n",
        " |  __new__ = <built-in method __new__ of type object>\n",
        " |      T.__new__(S, ...) -> a new object with type S, a subtype of T\n",
        "\n"
       ]
      }
     ],
     "prompt_number": 26
    },
    {
     "cell_type": "code",
     "collapsed": false,
     "input": [],
     "language": "python",
     "metadata": {},
     "outputs": []
    }
   ],
   "metadata": {}
  }
 ]
}
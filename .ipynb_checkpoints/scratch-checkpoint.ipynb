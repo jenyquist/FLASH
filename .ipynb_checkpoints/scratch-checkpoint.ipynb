{
 "metadata": {
  "name": "",
  "signature": "sha256:7abc5c901ede183457b4281b54a0ff0527cef0b05153a4b475141f0d980b25db"
 },
 "nbformat": 3,
 "nbformat_minor": 0,
 "worksheets": []
}